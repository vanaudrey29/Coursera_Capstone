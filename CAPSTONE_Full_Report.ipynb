{
 "cells": [
  {
   "cell_type": "markdown",
   "metadata": {},
   "source": [
    "# CAPSTONE PROJECT:"
   ]
  },
  {
   "cell_type": "markdown",
   "metadata": {},
   "source": [
    "## Trending locations closest to bike-sharing docking stations"
   ]
  },
  {
   "cell_type": "markdown",
   "metadata": {},
   "source": [
    "### I. Introduction"
   ]
  },
  {
   "cell_type": "markdown",
   "metadata": {},
   "source": [
    "As people are becoming more health and environmentally conscious, shared biking systems in metropolitan areas have become increasingly more popular over the years, with a steady increase in the number of users and docking stations. \n",
    "\n",
    "Being a past user myself, I would always map out my routes ahead of time and made sure to check out what was nearby my destination station. Knowing the city, this task is easy. However, what if you are a visitor in a city and don’t know where to go or what to do? Wouldn’t it be great to have an easy way to find out the docking stations that have the highest number popular venues/activities in order to maximize your time within a new city you wish to discover?\n",
    "\n",
    "For this capstone project, I will take a look at the most trending venues/activities within a 50 meter radius of a docking station in the city of Montreal. This information is useful for tourists visiting the city, who wish to discover the city using the shared-biking system Bixi, and are time-limited. However, the methodology used to discover the most trending locations in Montreal can be applied to other cities with a bike-sharing system such as Bixi. So the question to be answered through this project is:\n",
    "\n",
    "What are the top 5 docking station locations in the city of Montreal that have the most trending venues/activities within a 50 meter radius of the docking station?"
   ]
  },
  {
   "cell_type": "markdown",
   "metadata": {},
   "source": [
    "### II. Data "
   ]
  },
  {
   "cell_type": "markdown",
   "metadata": {},
   "source": [
    "The dataset that will be required to answer the question stated in the introduction includes the locations of the docking stations, which is open data available on the Bixi website of Montreal in .csv format. The .csv file contains the most recent list of the docking stations in 2019 for the Bixi bikes, with details about each station (station code, station name, latitude and longitude). This information can be downloaded from the Bixi website: https://www.bixi.com/en/open-data.\n",
    "\n",
    "Foursquare location data will be used as well to determine the most popular venues/activities in the city of Montreal. The location data will then be used to determine the most trending venues within a 50 m radius of each of the Bixi docking station locations provided in the Bixi dataset. The venues will then be analyzed by location in order to determine the top 5 docking station locations with the most trending venues. The venues will then be categorized according to their type (activity, restaurant, bakery, gym, shop, etc.) and will then be mapped (and colored by category) along with the nearest Bixi docking station."
   ]
  },
  {
   "cell_type": "code",
   "execution_count": null,
   "metadata": {},
   "outputs": [],
   "source": []
  }
 ],
 "metadata": {
  "kernelspec": {
   "display_name": "Python 3",
   "language": "python",
   "name": "python3"
  },
  "language_info": {
   "codemirror_mode": {
    "name": "ipython",
    "version": 3
   },
   "file_extension": ".py",
   "mimetype": "text/x-python",
   "name": "python",
   "nbconvert_exporter": "python",
   "pygments_lexer": "ipython3",
   "version": "3.6.7"
  }
 },
 "nbformat": 4,
 "nbformat_minor": 4
}
